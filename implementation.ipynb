{
 "cells": [
  {
   "cell_type": "code",
   "execution_count": 269,
   "id": "267cee30",
   "metadata": {},
   "outputs": [],
   "source": [
    "from typing import List"
   ]
  },
  {
   "cell_type": "code",
   "execution_count": 270,
   "id": "dccd0b73",
   "metadata": {},
   "outputs": [],
   "source": [
    "import numpy as np\n",
    "\n",
    "def ZDT1(x):\n",
    "    n = len(x)  # Number of decision variables\n",
    "    f1 = x[0]  # Objective 1 is just the first variable\n",
    "    g = 1 + 9 * np.sum(x[1:]) / (n - 1)\n",
    "    f2 = g * (1 - np.sqrt(f1 / g))  # Objective 2 formula\n",
    "    return f1, f2\n"
   ]
  },
  {
   "cell_type": "code",
   "execution_count": 282,
   "id": "1da29626",
   "metadata": {},
   "outputs": [],
   "source": [
    "import random\n",
    "\n",
    "num_objectives = 2 #TODO change for different objectives\n",
    "class Individual:\n",
    "    \"\"\"\n",
    "    Individual of genetic algorithm\n",
    "    code - represents one solution\n",
    "    fitness - quality of the solution\n",
    "    \"\"\"\n",
    "    def __init__(self, num_variables):\n",
    "        self.code = np.random.uniform(0, 1, num_variables) #TODO change for different objectives\n",
    "        self.rank = None\n",
    "        self.crowding_distance = None\n",
    "        self.calc_fitness()\n",
    "\n",
    "    def calc_fitness(self):\n",
    "        f1,f2 = ZDT1(self.code)\n",
    "        self.fitness = (f1, f2)\n",
    "        "
   ]
  },
  {
   "cell_type": "code",
   "execution_count": 284,
   "id": "00bf39f0",
   "metadata": {},
   "outputs": [],
   "source": [
    "def dominates(first_individual, second_individual):\n",
    "    is_better_in_all = True\n",
    "    is_strictly_better = False\n",
    "\n",
    "    for f1, f2 in zip(first_individual.fitness, second_individual.fitness):\n",
    "        if f1 > f2:\n",
    "            is_better_in_all = False\n",
    "        if f1 < f2:\n",
    "            is_strictly_better = True\n",
    "\n",
    "    return is_better_in_all and is_strictly_better\n",
    "    "
   ]
  },
  {
   "cell_type": "code",
   "execution_count": 285,
   "id": "96b4ef7a",
   "metadata": {},
   "outputs": [],
   "source": [
    "def non_dominated_sorting(population: List[Individual]):\n",
    "    pareto_fronts = []\n",
    "    domination_count = {}  # Stores how many individuals dominate each individual\n",
    "    dominated_individuals = {}  # Stores the individuals dominated by each individual\n",
    "    n = len(population)\n",
    "    \n",
    "    for individual in population:\n",
    "        domination_count[individual] = 0\n",
    "        dominated_individuals[individual] = []\n",
    "    \n",
    "    for i in range(n):\n",
    "        for j in range(n):\n",
    "            if i!=j:\n",
    "                if dominates(population[i],population[j]):\n",
    "                    dominated_individuals[population[i]].append(population[j])\n",
    "                elif dominates(population[j],population[i]):\n",
    "                    domination_count[population[i]] += 1\n",
    "     \n",
    "    current_front = [ind for ind in population if domination_count[ind] == 0]\n",
    "    current_front_index = 1\n",
    "    while current_front:\n",
    "        pareto_fronts.append(current_front)\n",
    "        next_front = []\n",
    "        for individual in current_front:\n",
    "            individual.rank = current_front_index\n",
    "            for dominated in dominated_individuals[individual]:\n",
    "                domination_count[dominated] -= 1\n",
    "                if domination_count[dominated] == 0:\n",
    "                    next_front.append(dominated)\n",
    "        current_front = next_front\n",
    "        current_front_index += 1\n",
    "\n",
    "    return pareto_fronts"
   ]
  },
  {
   "cell_type": "code",
   "execution_count": 286,
   "id": "89d17fe4",
   "metadata": {},
   "outputs": [],
   "source": [
    "from copy import deepcopy\n",
    "\n",
    "def calculate_crowding_distance(pareto_front: List[Individual], num_objectives: int):\n",
    "    n = len(pareto_front)\n",
    "    # Firstly initialize every individual from front to have cd = 0\n",
    "    for ind in pareto_front:\n",
    "        ind.crowding_distance = 0\n",
    "    for i in range(num_objectives):\n",
    "        # Sort individuals based on objective\n",
    "        pareto_front.sort(key = lambda x : x.fitness[i])\n",
    "        pareto_front[0].crowding_distance = float('inf')\n",
    "        pareto_front[-1].crowding_distance = float('inf')\n",
    "        f_min = pareto_front[0].fitness[i]\n",
    "        f_max = pareto_front[-1].fitness[i]\n",
    "        for k in range(1,n-1):\n",
    "#             assert f_max != f_min\n",
    "            distance = (pareto_front[k+1].fitness[i] - pareto_front[k-1].fitness[i])/(f_max - f_min)\n",
    "            pareto_front[k].crowding_distance += distance\n",
    "        \n",
    "    "
   ]
  },
  {
   "cell_type": "code",
   "execution_count": 275,
   "id": "dab40d57",
   "metadata": {},
   "outputs": [],
   "source": [
    "def selection(population: List[Individual], k: int):\n",
    "    \"\"\"\n",
    "    Tournament selection\n",
    "    1. Choose random k individuals from the population\n",
    "    2. The best of those k wins the tournament and is selected for crossover\n",
    "\n",
    "    Primarni kriterijum za selekciju je rang. \n",
    "    Ako dve jedinke imaju isti rang, \n",
    "    preferira se ona sa većom distancom gužve.\n",
    "    \"\"\"\n",
    "    k = min(len(population), k)\n",
    "    participants = random.sample(population, k)\n",
    "    \n",
    "    return max(participants, key=lambda x: (-x.rank, x.crowding_distance))\n"
   ]
  },
  {
   "cell_type": "code",
   "execution_count": 276,
   "id": "19290c9f",
   "metadata": {},
   "outputs": [],
   "source": [
    "def crossover(parent1: Individual, parent2: Individual, child1: Individual, child2: Individual, eta_c = 15):\n",
    "    \"\"\"\n",
    "    Uniform crossover - changes children in place\n",
    "    SBX\n",
    "    eta_c is the distribution index for crossover\n",
    "    \"\"\"\n",
    "    n = len(parent1.code)\n",
    "    for i in range(n):\n",
    "        if random.random() <= 0.5:\n",
    "            u = random.random()\n",
    "            if u <= 0.5:\n",
    "                beta_k = (2 * u) ** (1 / (eta_c + 1))\n",
    "            else:\n",
    "                beta_k = (1 / (2 * (1 - u))) ** (1 / (eta_c + 1))\n",
    "            child1.code[i] = 0.5 * ((1 + beta_k) * parent1.code[i] + (1 - beta_k) * parent2.code[i])\n",
    "            child2.code[i] = 0.5 * ((1 - beta_k) * parent1.code[i] + (1 + beta_k) * parent2.code[i])\n",
    "        else: # No crossover\n",
    "            child1.code[i] = parent1.code[i]\n",
    "            child2.code[i] = parent2.code[i]\n",
    "        # Ensure values remain in [0,1]\n",
    "        child1.code[i] = min(max(child1.code[i],0),1)\n",
    "        child2.code[i] = min(max(child2.code[i],0),1)\n",
    "        \n",
    "            \n",
    "    "
   ]
  },
  {
   "cell_type": "code",
   "execution_count": 277,
   "id": "55f19b54",
   "metadata": {},
   "outputs": [],
   "source": [
    "def mutation(child: Individual, p: float, eta_m = 20):\n",
    "    \"\"\"\n",
    "    Polynomial mutation\n",
    "    r - uniformly sampled random number between (0,1)\n",
    "    eta_m - mutation distribution index\n",
    "    \"\"\"\n",
    "    for i in range(len(child.code)):\n",
    "        if random.random() < p:\n",
    "            r = random.random()\n",
    "            if r < 0.5:\n",
    "                delta_q = (2 * r) ** (1 / (eta_m + 1)) - 1\n",
    "            else:\n",
    "                delta_q = 1 - (2 * (1 - r)) ** (1 / (eta_m + 1))\n",
    "            child.code[i] += delta_q\n",
    "            # ensure value remain in [0,1]\n",
    "            child.code[i] = min(max(child.code[i], 0), 1)"
   ]
  },
  {
   "cell_type": "code",
   "execution_count": null,
   "id": "0624e8c2",
   "metadata": {},
   "outputs": [],
   "source": []
  },
  {
   "cell_type": "markdown",
   "id": "b1b2db96",
   "metadata": {},
   "source": [
    "testing sorting:"
   ]
  },
  {
   "cell_type": "code",
   "execution_count": 278,
   "id": "86b43029",
   "metadata": {},
   "outputs": [],
   "source": [
    "# population = [Individual(num_variables=30) for _ in range(10)]\n",
    "# for ind in population:\n",
    "#     ind.fitness = ZDT1(ind.code)  # Calculate fitness for ZDT1\n",
    "# # Perform non-dominated sorting\n",
    "# pareto_fronts = non_dominated_sorting(population)\n",
    "# # Print results\n",
    "# for i, front in enumerate(pareto_fronts):\n",
    "#     print(f\"front {i + 1}:\")\n",
    "#     calculate_crowding_distance(front,2)\n",
    "#     for ind in front:\n",
    "#         print(f\" fitness:{ind.fitness}\")\n",
    "        \n",
    "# population.sort(key = lambda x : x.rank)\n",
    "# for ind in population:\n",
    "#     print(ind.rank,'--',ind.fitness,'--',ind.crowding_distance)"
   ]
  },
  {
   "cell_type": "code",
   "execution_count": 279,
   "id": "3145640a",
   "metadata": {},
   "outputs": [],
   "source": [
    "from matplotlib import pyplot as plt"
   ]
  },
  {
   "cell_type": "code",
   "execution_count": 289,
   "id": "209e0f6c",
   "metadata": {},
   "outputs": [],
   "source": [
    "def nsga2(population_size, num_variables, num_generations, tournament_size, mutation_prob, elitism_size):\n",
    "    assert population_size>=2\n",
    "    population = [Individual(num_variables) for _ in range(population_size)]\n",
    "    new_population = [Individual(num_variables) for _ in range(population_size)]\n",
    "    \n",
    "    # (preuzeto sa vezbi)\n",
    "    # parity of elitism_size and population_size must be the same\n",
    "    # since we are going two by two in the inner loop\n",
    "    if elitism_size % 2 != population_size % 2:\n",
    "        elitism_size += 1\n",
    "        \n",
    "    pareto_fronts = non_dominated_sorting(population)\n",
    "    for front in pareto_fronts:\n",
    "        calculate_crowding_distance(front, num_objectives)\n",
    "    \n",
    "    best_fitnesses = []\n",
    "    for it in range(num_generations):\n",
    "        population.sort(key=lambda x: (x.rank, -x.crowding_distance))\n",
    "        best_fitnesses.append(population[0].fitness)\n",
    "        \n",
    "        new_population[:elitism_size] = population[:elitism_size]\n",
    "        for i in range(elitism_size,population_size,2):\n",
    "            parent1 = selection(population, tournament_size)\n",
    "            # (preuzeto sa vezbi)\n",
    "            # HACK: to avoid choosing parent1 again, we temporarily set its fitness to inf\n",
    "            # what if tournament_size is 1?\n",
    "            tmp, parent1.fitness = parent1.fitness, float('-inf')\n",
    "            parent2 = selection(population, tournament_size)\n",
    "            # revert change\n",
    "            parent1.fitness = tmp\n",
    "            \n",
    "            crossover(parent1, parent2, new_population[i], new_population[i+1])\n",
    "            mutation(new_population[i], mutation_prob)\n",
    "            mutation(new_population[i+1], mutation_prob)\n",
    "            \n",
    "            new_population[i].calc_fitness()\n",
    "            new_population[i+1].calc_fitness()\n",
    "        pareto_fronts = non_dominated_sorting(new_population)\n",
    "        for front in pareto_fronts:\n",
    "            calculate_crowding_distance(front, num_objectives)\n",
    "        population = deepcopy(new_population)\n",
    "    best_individual = max(population, key=lambda x: (x.rank, -x.crowding_distance))\n",
    "    print(f'best fitness: {best_individual.fitness}')\n",
    "    \n",
    "    # Plotting best fitness values\n",
    "    f1_values, f2_values = zip(*best_fitnesses)  # Unpack fitness values into separate lists\n",
    "    plt.scatter(f1_values, f2_values, c='blue', label='Best Fitnesses')\n",
    "    plt.scatter([best_individual.fitness[0]], [best_individual.fitness[1]], c='red', label='Last Best Fitness', marker='x', s=100)\n",
    "    plt.xlabel('Objective 1 (f1)')\n",
    "    plt.ylabel('Objective 2 (f2)')\n",
    "    plt.title('Best Fitnesses Across Generations')\n",
    "    plt.legend()\n",
    "    plt.grid(True)\n",
    "    plt.show()\n",
    "    \n",
    "    print(f1_values) # debugging\n",
    "    "
   ]
  },
  {
   "cell_type": "code",
   "execution_count": 290,
   "id": "9f9cae6d",
   "metadata": {},
   "outputs": [
    {
     "name": "stdout",
     "output_type": "stream",
     "text": [
      "best fitness: (0.7546521598173616, 0.3079809631978745)\n"
     ]
    },
    {
     "data": {
      "image/png": "[encoded data removed]",
      "text/plain": [
       "<Figure size 432x288 with 1 Axes>"
      ]
     },
     "metadata": {
      "needs_background": "light"
     },
     "output_type": "display_data"
    },
    {
     "name": "stdout",
     "output_type": "stream",
     "text": [
      "(0.017630868219949858, 0.9965045492710244, 1.0, 0.0, 1.0, 1.0, 0.0, 0.0, 0.0, 0.0, 1.0, 1.0, 0.9829660891954102, 0.9829660891954102, 1.0, 1.0, 1.0, 0.0, 0.968618549942716, 0.0, 1.0, 1.0, 1.0, 1.0, 0.0, 1.0, 0.0, 1.0, 1.0, 1.0, 0.0, 0.0, 0.0, 1.0, 1.0, 1.0, 1.0, 0.0, 1.0, 0.0, 0.0, 1.0, 0.0, 0.0, 1.0, 0.0, 0.0, 1.0, 1.0, 0.0, 1.0, 1.0, 0.9990156059979646, 0.0, 0.0, 0.0, 0.9980496969368757, 0.0, 0.9418655914621129, 0.9418655914621129, 0.9589776130930113, 0.0, 0.0, 0.9144924150652688, 0.0, 0.0, 0.9618450509827743, 0.9618450509827743, 0.9618450509827743, 0.9618450509827743, 0.9690744324796449, 0.0, 0.0, 0.9690744324796449, 0.0, 0.0, 0.0, 0.0, 0.0, 1.0, 0.0, 0.0, 0.0, 0.0, 0.0, 0.0, 0.0, 0.0, 1.0, 1.0, 1.0, 1.0, 0.0, 0.0, 0.0, 1.0, 0.0, 1.0, 1.0, 1.0, 0.0, 0.9781840253256183, 0.9781840253256183, 0.0, 0.0, 0.0, 0.9509002647523365, 0.0, 0.9509002647523365, 0.924340013511187, 0.924340013511187, 0.0, 0.0, 0.0, 0.918190704403255, 0.9225283778531312, 0.0, 0.90684323624795, 0.90684323624795, 0.0, 0.0, 0.0, 0.9261825687850005, 0.9261825687850005, 0.0, 0.0, 0.9922561198458214, 0.0, 0.98886747615887, 0.0, 0.0, 0.0, 0.0, 0.9806610052895604, 0.9956676758070271, 0.0, 0.0, 1.0, 1.0, 0.0, 0.0, 0.9963757408773946, 0.9963757408773946, 0.0, 0.0, 0.0, 0.0, 0.0, 0.0, 0.9824351401337132, 0.9824351401337132, 0.9824351401337132, 0.9824351401337132, 0.9824351401337132, 0.0, 0.0, 0.9822519469677252, 0.9822519469677252, 0.9822519469677252, 0.9822519469677252, 0.9893661190623183, 0.0, 0.9893661190623183, 0.9919422460865153, 1.0, 1.0, 0.0, 1.0, 1.0, 1.0, 0.0, 0.0, 0.0, 0.0, 0.0, 0.0, 0.0, 0.0, 1.0, 0.0, 0.0, 1.0, 1.0, 0.0, 1.0, 1.0, 0.0, 0.0, 1.0, 1.0, 0.0, 0.0, 0.0, 1.0, 1.0, 1.0, 1.0, 1.0, 1.0, 1.0)\n"
     ]
    }
   ],
   "source": [
    "nsga2(100,30,200,3,0.1,10)"
   ]
  },
  {
   "cell_type": "code",
   "execution_count": null,
   "id": "dbce9d2a",
   "metadata": {},
   "outputs": [],
   "source": []
  },
  {
   "cell_type": "code",
   "execution_count": null,
   "id": "ab4372c5",
   "metadata": {},
   "outputs": [],
   "source": []
  }
 ],
 "metadata": {
  "kernelspec": {
   "display_name": "Python 3 (ipykernel)",
   "language": "python",
   "name": "python3"
  },
  "language_info": {
   "codemirror_mode": {
    "name": "ipython",
    "version": 3
   },
   "file_extension": ".py",
   "mimetype": "text/x-python",
   "name": "python",
   "nbconvert_exporter": "python",
   "pygments_lexer": "ipython3",
   "version": "3.8.10"
  }
 },
 "nbformat": 4,
 "nbformat_minor": 5
}

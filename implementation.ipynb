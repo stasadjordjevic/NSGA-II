{
 "cells": [
  {
   "cell_type": "code",
   "execution_count": 1,
   "id": "1c6fc8e2",
   "metadata": {},
   "outputs": [],
   "source": [
    "from typing import List, Callable"
   ]
  },
  {
   "cell_type": "code",
   "execution_count": 2,
   "id": "0e690b57",
   "metadata": {},
   "outputs": [],
   "source": [
    "# seed = 1"
   ]
  },
  {
   "cell_type": "code",
   "execution_count": 3,
   "id": "73de9f92",
   "metadata": {},
   "outputs": [],
   "source": [
    "import numpy as np\n",
    "\n",
    "def ZDT1(x):\n",
    "    n = len(x)  # Number of decision variables\n",
    "    f1 = x[0]  # Objective 1 is just the first variable\n",
    "    g = 1 + 9 * np.sum(x[1:]) / (n - 1)\n",
    "    f2 = g * (1 - np.sqrt(f1 / g))  # Objective 2 formula\n",
    "    return f1, f2\n",
    "\n",
    "\n",
    "def ZDT2(x):\n",
    "    n = len(x)  # Number of decision variables\n",
    "    f1 = x[0]  # Objective 1 is just the first variable\n",
    "    g = 1 + 9 * np.sum(x[1:]) / (n - 1)\n",
    "    f2 = g * (1 - (f1 / g) ** 2)  # Objective 2 formula\n",
    "    return f1, f2\n",
    "\n",
    "def ZDT3(x):\n",
    "    n = len(x)  # Number of decision variables\n",
    "    f1 = x[0]  # Objective 1 is just the first variable\n",
    "    g = 1 + 9 * np.sum(x[1:]) / (n - 1)  # g function\n",
    "    f2 = g * (1 - (f1 / g)**2)  # Objective 2 formula\n",
    "    return f1, f2"
   ]
  },
  {
   "cell_type": "code",
   "execution_count": 4,
   "id": "4e37f482",
   "metadata": {},
   "outputs": [],
   "source": [
    "import random\n",
    "\n",
    "num_objectives = 2 #TODO change for different objectives\n",
    "class Individual:\n",
    "    \"\"\"\n",
    "    Individual of genetic algorithm\n",
    "    code - represents one solution\n",
    "    fitness - quality of the solution\n",
    "    \"\"\"\n",
    "    def __init__(self, num_variables: int, objective_function: Callable[[np.ndarray], tuple]):\n",
    "        self.code = np.random.uniform(0, 1, num_variables) #TODO change for different objectives\n",
    "        self.rank = None\n",
    "        self.crowding_distance = None\n",
    "        self.objective_function = objective_function\n",
    "        self.calc_fitness()\n",
    "\n",
    "    def calc_fitness(self):\n",
    "#         f1,f2 = ZDT3(self.code)\n",
    "        self.fitness = self.objective_function(self.code)\n",
    "        "
   ]
  },
  {
   "cell_type": "code",
   "execution_count": 5,
   "id": "1c6eae74",
   "metadata": {},
   "outputs": [],
   "source": [
    "def dominates(first_individual, second_individual):\n",
    "    is_better_in_all = True\n",
    "    is_strictly_better = False\n",
    "\n",
    "    for f1, f2 in zip(first_individual.fitness, second_individual.fitness):\n",
    "        if f1 > f2:\n",
    "            is_better_in_all = False\n",
    "        if f1 < f2:\n",
    "            is_strictly_better = True\n",
    "\n",
    "    return is_better_in_all and is_strictly_better\n",
    "    "
   ]
  },
  {
   "cell_type": "code",
   "execution_count": 6,
   "id": "17cbe1d1",
   "metadata": {},
   "outputs": [],
   "source": [
    "def non_dominated_sorting(population: List[Individual]):\n",
    "    pareto_fronts = []\n",
    "    domination_count = {}  # Stores how many individuals dominate each individual\n",
    "    dominated_individuals = {}  # Stores the individuals dominated by each individual\n",
    "    n = len(population)\n",
    "    \n",
    "    for individual in population:\n",
    "        domination_count[individual] = 0\n",
    "        dominated_individuals[individual] = []\n",
    "    \n",
    "    for i in range(n):\n",
    "        for j in range(n):\n",
    "            if i!=j:\n",
    "                if dominates(population[i],population[j]):\n",
    "                    dominated_individuals[population[i]].append(population[j])\n",
    "                elif dominates(population[j],population[i]):\n",
    "                    domination_count[population[i]] += 1\n",
    "     \n",
    "    current_front = [ind for ind in population if domination_count[ind] == 0]\n",
    "    current_front_index = 1\n",
    "    while current_front:\n",
    "        pareto_fronts.append(current_front)\n",
    "        next_front = []\n",
    "        for individual in current_front:\n",
    "            individual.rank = current_front_index\n",
    "            for dominated in dominated_individuals[individual]:\n",
    "                domination_count[dominated] -= 1\n",
    "                if domination_count[dominated] == 0:\n",
    "                    next_front.append(dominated)\n",
    "        current_front = next_front\n",
    "        current_front_index += 1\n",
    "\n",
    "    return pareto_fronts"
   ]
  },
  {
   "cell_type": "code",
   "execution_count": 7,
   "id": "240d3ad9",
   "metadata": {},
   "outputs": [],
   "source": [
    "from copy import deepcopy\n",
    "\n",
    "def calculate_crowding_distance(pareto_front: List[Individual], num_objectives: int):\n",
    "    n = len(pareto_front)\n",
    "    # Firstly initialize every individual from front to have cd = 0\n",
    "    for ind in pareto_front:\n",
    "        ind.crowding_distance = 0\n",
    "    for i in range(num_objectives):\n",
    "        # Sort individuals based on objective\n",
    "        pareto_front.sort(key = lambda x : x.fitness[i])\n",
    "        pareto_front[0].crowding_distance = float('inf')\n",
    "        pareto_front[-1].crowding_distance = float('inf')\n",
    "        f_min = pareto_front[0].fitness[i]\n",
    "        f_max = pareto_front[-1].fitness[i]\n",
    "        for k in range(1,n-1):\n",
    "#             assert f_max != f_min\n",
    "            distance = (pareto_front[k+1].fitness[i] - pareto_front[k-1].fitness[i])/(f_max - f_min)\n",
    "            pareto_front[k].crowding_distance += distance\n",
    "        \n",
    "    "
   ]
  },
  {
   "cell_type": "code",
   "execution_count": 8,
   "id": "24b563ec",
   "metadata": {},
   "outputs": [],
   "source": [
    "def selection(population: List[Individual], k: int):\n",
    "    \"\"\"\n",
    "    Tournament selection\n",
    "    1. Choose random k individuals from the population\n",
    "    2. The best of those k wins the tournament and is selected for crossover\n",
    "\n",
    "    Primarni kriterijum za selekciju je rang. \n",
    "    Ako dve jedinke imaju isti rang, \n",
    "    preferira se ona sa većom distancom gužve.\n",
    "    \"\"\"\n",
    "    k = min(len(population), k)\n",
    "    participants = random.sample(population, k)\n",
    "    \n",
    "    return max(participants, key=lambda x: (-x.rank, x.crowding_distance))\n"
   ]
  },
  {
   "cell_type": "code",
   "execution_count": 9,
   "id": "d807cde6",
   "metadata": {},
   "outputs": [],
   "source": [
    "def crossover(parent1: Individual, parent2: Individual, child1: Individual, child2: Individual, eta_c = 15):\n",
    "    \"\"\"\n",
    "    Uniform crossover - changes children in place\n",
    "    SBX\n",
    "    eta_c is the distribution index for crossover\n",
    "    \"\"\"\n",
    "    n = len(parent1.code)\n",
    "    for i in range(n):\n",
    "        if random.random() <= 0.5:\n",
    "            u = random.random()\n",
    "            if u <= 0.5:\n",
    "                beta_k = (2 * u) ** (1 / (eta_c + 1))\n",
    "            else:\n",
    "                beta_k = (1 / (2 * (1 - u))) ** (1 / (eta_c + 1))\n",
    "            child1.code[i] = 0.5 * ((1 + beta_k) * parent1.code[i] + (1 - beta_k) * parent2.code[i])\n",
    "            child2.code[i] = 0.5 * ((1 - beta_k) * parent1.code[i] + (1 + beta_k) * parent2.code[i])\n",
    "        else: # No crossover\n",
    "            child1.code[i] = parent1.code[i]\n",
    "            child2.code[i] = parent2.code[i]\n",
    "        # Ensure values remain in [0,1]\n",
    "        child1.code[i] = min(max(child1.code[i],0),1)\n",
    "        child2.code[i] = min(max(child2.code[i],0),1)\n",
    "        \n",
    "            \n",
    "    "
   ]
  },
  {
   "cell_type": "code",
   "execution_count": 10,
   "id": "81f112c1",
   "metadata": {},
   "outputs": [],
   "source": [
    "def mutation(child: Individual, p: float, eta_m = 20):\n",
    "    \"\"\"\n",
    "    Polynomial mutation\n",
    "    r - uniformly sampled random number between (0,1)\n",
    "    eta_m - mutation distribution index\n",
    "    \"\"\"\n",
    "    for i in range(len(child.code)):\n",
    "        if random.random() < p:\n",
    "            r = random.random()\n",
    "            if r < 0.5:\n",
    "                delta_q = (2 * r) ** (1 / (eta_m + 1)) - 1\n",
    "            else:\n",
    "                delta_q = 1 - (2 * (1 - r)) ** (1 / (eta_m + 1))\n",
    "            child.code[i] += delta_q\n",
    "            # ensure value remain in [0,1]\n",
    "            child.code[i] = min(max(child.code[i], 0), 1)"
   ]
  },
  {
   "cell_type": "code",
   "execution_count": 11,
   "id": "7ea5413a",
   "metadata": {},
   "outputs": [],
   "source": [
    "from matplotlib import pyplot as plt"
   ]
  },
  {
   "cell_type": "code",
   "execution_count": 14,
   "id": "a562dd31",
   "metadata": {},
   "outputs": [],
   "source": [
    "def nsga2(population_size, num_variables, num_generations, \n",
    "          tournament_size, mutation_prob, elitism_size, objective_function):\n",
    "    assert population_size>=2\n",
    "    population = [Individual(num_variables,objective_function) \n",
    "                  for _ in range(population_size)]\n",
    "    new_population = [Individual(num_variables, objective_function) \n",
    "                      for _ in range(population_size)]\n",
    "    \n",
    "    # (preuzeto sa vezbi)\n",
    "    # parity of elitism_size and population_size must be the same\n",
    "    # since we are going two by two in the inner loop\n",
    "    if elitism_size % 2 != population_size % 2:\n",
    "        elitism_size += 1\n",
    "        \n",
    "    pareto_fronts = non_dominated_sorting(population)\n",
    "    for front in pareto_fronts:\n",
    "        calculate_crowding_distance(front, num_objectives)\n",
    "    \n",
    "    for it in range(num_generations):\n",
    "        population.sort(key=lambda x: (x.rank, -x.crowding_distance))\n",
    "        \n",
    "        new_population[:elitism_size] = population[:elitism_size]\n",
    "        for i in range(elitism_size,population_size,2):\n",
    "            parent1 = selection(population, tournament_size)\n",
    "            # (preuzeto sa vezbi)\n",
    "            # HACK: to avoid choosing parent1 again, we temporarily set its fitness to inf\n",
    "            # what if tournament_size is 1?\n",
    "            tmp, parent1.fitness = parent1.fitness, float('-inf')\n",
    "            parent2 = selection(population, tournament_size)\n",
    "            # revert change\n",
    "            parent1.fitness = tmp\n",
    "            \n",
    "            crossover(parent1, parent2, new_population[i], new_population[i+1])\n",
    "            mutation(new_population[i], mutation_prob)\n",
    "            mutation(new_population[i+1], mutation_prob)\n",
    "            \n",
    "            new_population[i].calc_fitness()\n",
    "            new_population[i+1].calc_fitness()\n",
    "        pareto_fronts = non_dominated_sorting(new_population)\n",
    "        for front in pareto_fronts:\n",
    "            calculate_crowding_distance(front, num_objectives)\n",
    "        population = deepcopy(new_population)\n",
    "    best_individual = max(population, key=lambda x: (x.rank, -x.crowding_distance))\n",
    "    \n",
    "    # Plotting the final Pareto front\n",
    "    final_pareto_front = pareto_fronts[0]  # The first front contains the Pareto-optimal solutions\n",
    "    pareto_f1_values = [ind.fitness[0] for ind in final_pareto_front]\n",
    "    pareto_f2_values = [ind.fitness[1] for ind in final_pareto_front]\n",
    "    \n",
    "    plt.figure(figsize=(8, 6))\n",
    "    plt.scatter(pareto_f1_values, pareto_f2_values, c='red', label='Final Pareto Front')\n",
    "    plt.xlabel('Objective 1 (f1)')\n",
    "    plt.ylabel('Objective 2 (f2)')\n",
    "    plt.title(f\"Final pareto front:{objective_function.__name__}\")\n",
    "    plt.legend()\n",
    "    plt.grid(True)\n",
    "    plt.show()\n",
    "    \n",
    "    "
   ]
  },
  {
   "cell_type": "code",
   "execution_count": 17,
   "id": "41f39b2e",
   "metadata": {},
   "outputs": [
    {
     "data": {
      "image/png": "[encoded data removed]",
      "text/plain": [
       "<Figure size 576x432 with 1 Axes>"
      ]
     },
     "metadata": {
      "needs_background": "light"
     },
     "output_type": "display_data"
    }
   ],
   "source": [
    "nsga2(population_size = 100, num_variables = 30, \n",
    "      num_generations = 200, tournament_size = 3, \n",
    "      mutation_prob = 0.1, elitism_size = 10, objective_function=ZDT3)\n"
   ]
  },
  {
   "cell_type": "code",
   "execution_count": null,
   "id": "9abe520d",
   "metadata": {},
   "outputs": [],
   "source": []
  },
  {
   "cell_type": "code",
   "execution_count": null,
   "id": "d99a2657",
   "metadata": {},
   "outputs": [],
   "source": []
  },
  {
   "cell_type": "code",
   "execution_count": null,
   "id": "44568d96",
   "metadata": {},
   "outputs": [],
   "source": []
  },
  {
   "cell_type": "code",
   "execution_count": null,
   "id": "49649b0f",
   "metadata": {},
   "outputs": [],
   "source": []
  },
  {
   "cell_type": "code",
   "execution_count": null,
   "id": "ec46bfdf",
   "metadata": {},
   "outputs": [],
   "source": []
  },
  {
   "cell_type": "code",
   "execution_count": null,
   "id": "22d417f1",
   "metadata": {},
   "outputs": [],
   "source": []
  },
  {
   "cell_type": "code",
   "execution_count": null,
   "id": "9d633e32",
   "metadata": {},
   "outputs": [],
   "source": []
  }
 ],
 "metadata": {
  "kernelspec": {
   "display_name": "Python 3 (ipykernel)",
   "language": "python",
   "name": "python3"
  },
  "language_info": {
   "codemirror_mode": {
    "name": "ipython",
    "version": 3
   },
   "file_extension": ".py",
   "mimetype": "text/x-python",
   "name": "python",
   "nbconvert_exporter": "python",
   "pygments_lexer": "ipython3",
   "version": "3.8.10"
  }
 },
 "nbformat": 4,
 "nbformat_minor": 5
}

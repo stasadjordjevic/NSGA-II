{
 "cells": [
  {
   "cell_type": "code",
   "execution_count": 15,
   "id": "547bf5d0",
   "metadata": {},
   "outputs": [],
   "source": [
    "from typing import List"
   ]
  },
  {
   "cell_type": "code",
   "execution_count": 145,
   "id": "58f51ae9",
   "metadata": {},
   "outputs": [],
   "source": [
    "import numpy as np\n",
    "\n",
    "def ZDT1(x):\n",
    "    n = len(x)  # number of decision variables\n",
    "    f1 = x[0]  # objective 1 is just the first variable\n",
    "    g = 1 + 9 * np.sum(x[1:]) / (n - 1)\n",
    "    f2 = g * (1 - np.sqrt(f1 / g))  # objective 2 formula\n",
    "    return f1, f2\n"
   ]
  },
  {
   "cell_type": "code",
   "execution_count": 146,
   "id": "e4b2dd83",
   "metadata": {},
   "outputs": [],
   "source": [
    "import random\n",
    "\n",
    "\n",
    "class Individual:\n",
    "    \"\"\"\n",
    "    Individual of genetic algorithm\n",
    "    code - represents one solution\n",
    "    fitness - quality of the solution\n",
    "    \"\"\"\n",
    "    def __init__(self, num_variables):\n",
    "        self.code = np.random.uniform(0, 1, num_variables) #TODO change for different objectives\n",
    "        self.rank = None\n",
    "        self.crowding_distance = None\n",
    "        self.calc_fitness()\n",
    "\n",
    "    def calc_fitness(self):\n",
    "        f1,f2 = ZDT1(self.code)\n",
    "        self.fitness = (f1, f2)\n",
    "        \n",
    "        \n",
    "    # TODO check if i need it for selection and elitism\n",
    "#     def __gt__(self, other):\n",
    "#         \"\"\"\n",
    "#         Defines the greater-than comparison for Individuals based on rank and crowding distance.\n",
    "#         \"\"\"\n",
    "#         if self.rank is None or other.rank is None:\n",
    "#             raise ValueError(\"Rank must be assigned before comparison.\")\n",
    "#         if self.crowding_distance is None or other.crowding_distance is None:\n",
    "#             raise ValueError(\"Crowding distance must be assigned before comparison.\")\n",
    "        \n",
    "#         # Compare based on rank and then crowding distance\n",
    "#         if self.rank < other.rank:\n",
    "#             return True\n",
    "#         elif self.rank == other.rank:\n",
    "#             return self.crowding_distance > other.crowding_distance\n",
    "#         else:\n",
    "#             return False"
   ]
  },
  {
   "cell_type": "code",
   "execution_count": 147,
   "id": "0aaf6e16",
   "metadata": {},
   "outputs": [],
   "source": [
    "def dominates(first_individual, second_individual):\n",
    "    is_better_in_all = True\n",
    "    is_strictly_better = False\n",
    "\n",
    "    for f1, f2 in zip(first_individual.fitness, second_individual.fitness):\n",
    "        if f1 > f2:\n",
    "            is_better_in_all = False\n",
    "        if f1 < f2:\n",
    "            is_strictly_better = True\n",
    "\n",
    "    return is_better_in_all and is_strictly_better\n",
    "    "
   ]
  },
  {
   "cell_type": "code",
   "execution_count": 148,
   "id": "e616769a",
   "metadata": {},
   "outputs": [],
   "source": [
    "def non_dominated_sorting(population: List[Individual]):\n",
    "    pareto_fronts = []\n",
    "    domination_count = {}  # Stores how many individuals dominate each individual\n",
    "    dominated_individuals = {}  # Stores the individuals dominated by each individual\n",
    "    n = len(population)\n",
    "    \n",
    "    for individual in population:\n",
    "        domination_count[individual] = 0\n",
    "        dominated_individuals[individual] = []\n",
    "    \n",
    "    for i in range(n):\n",
    "        for j in range(n):\n",
    "            if i!=j:\n",
    "                if dominates(population[i],population[j]):\n",
    "                    dominated_individuals[population[i]].append(population[j])\n",
    "                elif dominates(population[j],population[i]):\n",
    "                    domination_count[population[i]] += 1\n",
    "     \n",
    "    current_front = [ind for ind in population if domination_count[ind] == 0]\n",
    "    current_front_index = 1\n",
    "    while current_front:\n",
    "        pareto_fronts.append(current_front)\n",
    "        next_front = []\n",
    "        for individual in current_front:\n",
    "            individual.rank = current_front_index\n",
    "            for dominated in dominated_individuals[individual]:\n",
    "                domination_count[dominated] -= 1\n",
    "                if domination_count[dominated] == 0:\n",
    "                    next_front.append(dominated)\n",
    "        current_front = next_front\n",
    "        current_front_index += 1\n",
    "\n",
    "    return pareto_fronts"
   ]
  },
  {
   "cell_type": "code",
   "execution_count": 149,
   "id": "6e868dc3",
   "metadata": {},
   "outputs": [],
   "source": [
    "from copy import deepcopy\n",
    "\n",
    "def calculate_crowding_distance(pareto_front: List[Individual], num_objectives: int):\n",
    "    n = len(pareto_front)\n",
    "    # Firstly initialize every individual from front to have cd = 0\n",
    "    for ind in pareto_front:\n",
    "        ind.crowding_distance = 0\n",
    "    for i in range(num_objectives):\n",
    "        # Sort individuals based on objective\n",
    "        pareto_front.sort(key = lambda x : x.fitness[i])\n",
    "        pareto_front[0].crowding_distance = float('inf')\n",
    "        pareto_front[-1].crowding_distance = float('inf')\n",
    "        f_min = pareto_front[0].fitness[i]\n",
    "        f_max = pareto_front[-1].fitness[i]\n",
    "        for k in range(1,n-1):\n",
    "            assert f_max != f_min\n",
    "            distance = (pareto_front[k+1].fitness[i] - pareto_front[k-1].fitness[i])/(f_max - f_min)\n",
    "            pareto_front[k].crowding_distance += distance\n",
    "        \n",
    "    "
   ]
  },
  {
   "cell_type": "code",
   "execution_count": 150,
   "id": "398aba7d",
   "metadata": {},
   "outputs": [],
   "source": [
    "def selection(population: List[Individual], k: int):\n",
    "    \"\"\"\n",
    "    Tournament selection\n",
    "    1. Choose random k individuals from the population\n",
    "    2. The best of those k wins the tournament and is selected for crossover\n",
    "\n",
    "    Primarni kriterijum za selekciju je rang. \n",
    "    Ako dve jedinke imaju isti rang, \n",
    "    preferira se ona sa većom distancom gužve.\n",
    "    \"\"\"\n",
    "    k = min(len(population), k)\n",
    "    participants = random.sample(population, k)\n",
    "    \n",
    "    return max(participants, key=lambda x: (-x.rank, x.crowding_distance))\n"
   ]
  },
  {
   "cell_type": "code",
   "execution_count": 151,
   "id": "48384806",
   "metadata": {},
   "outputs": [],
   "source": [
    "def crossover(parent1: Individual, parent2: Individual, child1: Individual, child2: Individual):\n",
    "    \"\"\"\n",
    "    Single point crossover - changes children in place\n",
    "    TODO SBX\n",
    "    \"\"\"\n",
    "    breakpoint = random.randrange(1, len(parent1.code))\n",
    "    child1.code[:breakpoint] = parent1.code[:breakpoint]\n",
    "    child1.code[breakpoint:] = parent2.code[breakpoint:]\n",
    "\n",
    "    child2.code[:breakpoint] = parent2.code[:breakpoint]\n",
    "    child2.code[breakpoint:] = parent1.code[breakpoint:]\n",
    "    "
   ]
  },
  {
   "cell_type": "code",
   "execution_count": 152,
   "id": "4bba09b4",
   "metadata": {},
   "outputs": [],
   "source": [
    "def mutation(child: Individual, p: float):\n",
    "    \"\"\"\n",
    "    TODO polynomial mutation\n",
    "    \"\"\"\n",
    "    for i in range(len(child.code)):\n",
    "        if random.random() < p:\n",
    "            child.code[i] = 1 - child.code[i]"
   ]
  },
  {
   "cell_type": "markdown",
   "id": "85fe1a9c",
   "metadata": {},
   "source": [
    "testing sorting:"
   ]
  },
  {
   "cell_type": "code",
   "execution_count": 153,
   "id": "b0ca5065",
   "metadata": {},
   "outputs": [
    {
     "name": "stdout",
     "output_type": "stream",
     "text": [
      "front 1:\n",
      " fitness:(0.6660042077659039, 3.583990291519061)\n",
      " fitness:(0.2894854102597064, 3.7598464413407244)\n",
      " fitness:(0.0100015457342848, 4.643712057515177)\n",
      "front 2:\n",
      " fitness:(0.3043042398597151, 3.804054380900897)\n",
      " fitness:(0.020614451749967455, 5.099515173104652)\n",
      "front 3:\n",
      " fitness:(0.5651134148981395, 3.8216085669031425)\n",
      " fitness:(0.44441838336501993, 3.85718545142365)\n",
      " fitness:(0.3347898894967698, 4.233190345208425)\n",
      "front 4:\n",
      " fitness:(0.825469493748813, 3.9859670288053395)\n",
      " fitness:(0.4461176468103628, 4.532520725686009)\n",
      "1 -- (0.0100015457342848, 4.643712057515177) -- inf\n",
      "1 -- (0.2894854102597064, 3.7598464413407244) -- 2.0\n",
      "1 -- (0.6660042077659039, 3.583990291519061) -- inf\n",
      "2 -- (0.3043042398597151, 3.804054380900897) -- inf\n",
      "2 -- (0.020614451749967455, 5.099515173104652) -- inf\n",
      "3 -- (0.44441838336501993, 3.85718545142365) -- 2.0\n",
      "3 -- (0.5651134148981395, 3.8216085669031425) -- inf\n",
      "3 -- (0.3347898894967698, 4.233190345208425) -- inf\n",
      "4 -- (0.825469493748813, 3.9859670288053395) -- inf\n",
      "4 -- (0.4461176468103628, 4.532520725686009) -- inf\n"
     ]
    }
   ],
   "source": [
    "population = [Individual(num_variables=30) for _ in range(10)]\n",
    "for ind in population:\n",
    "    ind.fitness = ZDT1(ind.code)  # Calculate fitness for ZDT1\n",
    "# Perform non-dominated sorting\n",
    "pareto_fronts = non_dominated_sorting(population)\n",
    "# Print results\n",
    "for i, front in enumerate(pareto_fronts):\n",
    "    print(f\"front {i + 1}:\")\n",
    "    calculate_crowding_distance(front,2)\n",
    "    for ind in front:\n",
    "        print(f\" fitness:{ind.fitness}\")\n",
    "        \n",
    "population.sort(key = lambda x : x.rank)\n",
    "for ind in population:\n",
    "    print(ind.rank,'--',ind.fitness,'--',ind.crowding_distance)"
   ]
  },
  {
   "cell_type": "code",
   "execution_count": null,
   "id": "981a5caa",
   "metadata": {},
   "outputs": [],
   "source": []
  },
  {
   "cell_type": "code",
   "execution_count": null,
   "id": "95de2172",
   "metadata": {},
   "outputs": [],
   "source": []
  }
 ],
 "metadata": {
  "kernelspec": {
   "display_name": "Python 3 (ipykernel)",
   "language": "python",
   "name": "python3"
  },
  "language_info": {
   "codemirror_mode": {
    "name": "ipython",
    "version": 3
   },
   "file_extension": ".py",
   "mimetype": "text/x-python",
   "name": "python",
   "nbconvert_exporter": "python",
   "pygments_lexer": "ipython3",
   "version": "3.8.10"
  }
 },
 "nbformat": 4,
 "nbformat_minor": 5
}

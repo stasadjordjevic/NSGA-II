{
 "cells": [
  {
   "cell_type": "code",
   "execution_count": 50,
   "id": "a4d39024-960d-434f-bbb8-4d6b82351f00",
   "metadata": {},
   "outputs": [],
   "source": [
    "# pip install pymoo"
   ]
  },
  {
   "cell_type": "code",
   "execution_count": 51,
   "id": "2a2e9cf3",
   "metadata": {},
   "outputs": [],
   "source": [
    "# pip install pygmo"
   ]
  },
  {
   "cell_type": "code",
   "execution_count": 52,
   "id": "2f75cddc-d0a4-48f0-bede-c527531fd9c5",
   "metadata": {},
   "outputs": [],
   "source": [
    "from implementation import nsga2\n",
    "from pymoo.algorithms.moo.nsga2 import NSGA2\n",
    "from pymoo.problems import get_problem\n",
    "from pymoo.optimize import minimize\n",
    "from pymoo.visualization.scatter import Scatter\n",
    "# from pygmo import hypervolume\n",
    "import pygmo as pg\n",
    "from matplotlib import pyplot as plt"
   ]
  },
  {
   "cell_type": "code",
   "execution_count": 82,
   "id": "6736236e",
   "metadata": {},
   "outputs": [],
   "source": [
    "import numpy as np\n",
    "\n",
    "def ZDT1(x):\n",
    "    n = len(x)  # Number of decision variables\n",
    "    f1 = x[0]  # Objective 1 is just the first variable\n",
    "    g = 1 + 9 * np.sum(x[1:]) / (n - 1)\n",
    "    f2 = g * (1 - np.sqrt(f1 / g))  # Objective 2 formula\n",
    "    return f1, f2\n",
    "\n",
    "\n",
    "def ZDT2(x):\n",
    "    n = len(x)  # Number of decision variables\n",
    "    f1 = x[0]  # Objective 1 is just the first variable\n",
    "    g = 1 + 9 * np.sum(x[1:]) / (n - 1)\n",
    "    f2 = g * (1 - (f1 / g) ** 2)  # Objective 2 formula\n",
    "    return f1, f2\n",
    "\n",
    "def ZDT3(x):\n",
    "    n = len(x)  # Number of decision variables\n",
    "    f1 = x[0]  # Objective 1 is just the first variable\n",
    "    g = 1 + 9 * np.sum(x[1:]) / (n - 1)  # g function\n",
    "    h =  1 - np.sqrt(f1 / g) - (f1 / g) * np.sin(10 * np.pi * f1) # h function\n",
    "    f2 = g * h  # Objective 2 formula\n",
    "    return f1, f2\n",
    "\n",
    "#TODO za zdt4 izmeniti crossover i mutation (jos nesto?)\n",
    "def ZDT4(x):\n",
    "    n = len(x)  # Number of decision variables\n",
    "    f1 = x[0]  # Objective 1 is just the first variable\n",
    "    g = 1 + 10 * (n - 1) + np.sum(x[1:]**2 - 10 * np.cos(4 * np.pi * x[1:]))  # g function\n",
    "    h =  1 - np.sqrt(f1 / g) # h function\n",
    "    f2 = g * h  # Objective 2 formula\n",
    "    return f1, f2\n",
    "\n",
    "def ZDT6(x):\n",
    "    n = len(x)  # Number of decision variables\n",
    "    f1 = 1 - np.exp(-4 * x[0]) * np.sin(6 * np.pi * x[0])**6 # Objective 1 formula\n",
    "    g = 1 + 9 * (np.sum(x[1:]) / (n - 1))**0.25  # g function\n",
    "    h =  1 - (f1 / g)**2 # h function\n",
    "    f2 = g * h  # Objective 2 formula\n",
    "    return f1, f2\n"
   ]
  },
  {
   "cell_type": "code",
   "execution_count": 55,
   "id": "9e333b3e",
   "metadata": {},
   "outputs": [],
   "source": [
    "def calc_hv_nsga2(population_size, num_variables, num_generations, tournament_size,\n",
    "                  mutation_prob, elitism_size, objective_function, reference_point):\n",
    "    \"\"\"\n",
    "    Calculate hypervolumen of my implementation of nsga2 algorithm\n",
    "    \"\"\"\n",
    "    final_pareto_front = nsga2(population_size=population_size, \n",
    "                         num_variables=num_variables,\n",
    "                         num_generations=num_generations, \n",
    "                         tournament_size=tournament_size,\n",
    "                         mutation_prob=mutation_prob, \n",
    "                         elitism_size=elitism_size,\n",
    "                         objective_function=objective_function)\n",
    "    pareto_front = [(ind.fitness[0], ind.fitness[1]) for ind in final_pareto_front]\n",
    "    pareto_front_array = np.array(pareto_front)\n",
    "    hv = pg.hypervolume(pareto_front_array)\n",
    "    return hv.compute(reference_point)"
   ]
  },
  {
   "cell_type": "code",
   "execution_count": 57,
   "id": "12f184b1-1a36-44fa-a032-935913b233af",
   "metadata": {},
   "outputs": [],
   "source": [
    "def calc_hv_pymoo(population_size, num_generations, problem_name, reference_point):\n",
    "    \n",
    "    problem = get_problem(problem_name)\n",
    "    algorithm = NSGA2(pop_size=population_size)\n",
    "    res = minimize(problem, \n",
    "                   algorithm, \n",
    "                   ('n_gen', num_generations), \n",
    "                   seed=1, \n",
    "                   verbose=False)\n",
    "    hv = pg.hypervolume(res.F)\n",
    "    return hv.compute(reference_point)"
   ]
  },
  {
   "cell_type": "code",
   "execution_count": 81,
   "id": "00925a5d-fc2d-46c0-983d-d5ef8c306ce0",
   "metadata": {},
   "outputs": [],
   "source": [
    "hv_nsga2 = calc_hv_nsga2(population_size = 100, num_variables = 30, \n",
    "                         num_generations = 200, tournament_size = 3, \n",
    "                         mutation_prob = 0.1, elitism_size = 10, objective_function=ZDT2, \n",
    "                         reference_point=[1.5,1.5])\n",
    "hv_pymoo = calc_hv_pymoo(100,200, \"zdt2\", [1.5,1.5])"
   ]
  },
  {
   "cell_type": "code",
   "execution_count": 65,
   "id": "93ce0d6d-0991-4833-b6bc-f314e4d93611",
   "metadata": {},
   "outputs": [
    {
     "data": {
      "image/png": "[encoded data removed]",
      "text/plain": [
       "<Figure size 800x600 with 1 Axes>"
      ]
     },
     "metadata": {},
     "output_type": "display_data"
    }
   ],
   "source": [
    "labels = ['My NSGA-II', 'Pymoo NSGA-II']\n",
    "values = [hv_nsga2, hv_pymoo]\n",
    "\n",
    "plt.figure(figsize=(8, 6))\n",
    "plt.bar(labels, values, color=['blue', 'orange'], alpha=0.7)\n",
    "plt.ylabel('Hypervolume (HV)')\n",
    "plt.title('Hypervolume Comparison')\n",
    "plt.show()"
   ]
  },
  {
   "cell_type": "code",
   "execution_count": null,
   "id": "7748e161-2c82-45c2-a79f-875901248df8",
   "metadata": {},
   "outputs": [],
   "source": []
  },
  {
   "cell_type": "code",
   "execution_count": null,
   "id": "b3db6f42-2936-4ea2-b399-4e9bc11c7b03",
   "metadata": {},
   "outputs": [],
   "source": []
  },
  {
   "cell_type": "code",
   "execution_count": 67,
   "id": "1f4f9f3b-837e-44a7-bc2d-7e5e5664c1aa",
   "metadata": {},
   "outputs": [],
   "source": [
    "def calc_ms_nsga2(population_size, num_variables, num_generations, tournament_size,\n",
    "                   mutation_prob, elitism_size, objective_function):\n",
    "    final_pareto_front = nsga2(population_size=population_size, \n",
    "                                num_variables=num_variables,\n",
    "                                num_generations=num_generations, \n",
    "                                tournament_size=tournament_size,\n",
    "                                mutation_prob=mutation_prob, \n",
    "                                elitism_size=elitism_size,\n",
    "                                objective_function=objective_function)\n",
    "    pareto_front = [(ind.fitness[0], ind.fitness[1]) for ind in final_pareto_front]\n",
    "    pareto_front = np.array(pareto_front)\n",
    "    pareto_front_sorted = pareto_front[np.argsort(pareto_front[:, 0])]\n",
    "    distances = np.linalg.norm(np.diff(pareto_front_sorted, axis=0), axis=1)\n",
    "    ms = np.sum(distances) / len(distances)\n",
    "    return ms"
   ]
  },
  {
   "cell_type": "code",
   "execution_count": 76,
   "id": "f8c0cb28-b079-4877-903f-08af459306ac",
   "metadata": {},
   "outputs": [],
   "source": [
    "def calc_ms_pymoo(population_size, num_generations, problem_name):\n",
    "    problem = get_problem(problem_name)\n",
    "    algorithm = NSGA2(pop_size=population_size)\n",
    "    res = minimize(problem, \n",
    "                   algorithm, \n",
    "                   ('n_gen', num_generations), \n",
    "                   seed=1, \n",
    "                   verbose=False)\n",
    "    pareto_front = res.F\n",
    "    pareto_front = np.array(pareto_front)\n",
    "    pareto_front_sorted = pareto_front[np.argsort(pareto_front[:, 0])]\n",
    "    distances = np.linalg.norm(np.diff(pareto_front_sorted, axis=0), axis=1)\n",
    "    ms = np.sum(distances) / len(distances) \n",
    "    return ms\n",
    "    "
   ]
  },
  {
   "cell_type": "code",
   "execution_count": 79,
   "id": "b21dd4de-e3c6-4846-8d83-13c01d3a4a31",
   "metadata": {},
   "outputs": [],
   "source": [
    "ms_nsga2 = calc_ms_nsga2(population_size = 100, num_variables = 30, \n",
    "              num_generations = 200, tournament_size = 3,\n",
    "              mutation_prob = 0.1, elitism_size = 10, objective_function=ZDT2)\n",
    "ms_pymoo = calc_ms_pymoo(population_size=100, num_generations= 200, problem_name=\"zdt2\")"
   ]
  },
  {
   "cell_type": "code",
   "execution_count": 80,
   "id": "d8292b7d-fcb4-4171-93b2-f81800672fb1",
   "metadata": {},
   "outputs": [
    {
     "data": {
      "image/png": "[encoded data removed]",
      "text/plain": [
       "<Figure size 800x600 with 1 Axes>"
      ]
     },
     "metadata": {},
     "output_type": "display_data"
    }
   ],
   "source": [
    "labels = ['My NSGA-II', 'Pymoo NSGA-II']\n",
    "values = [ms_nsga2, ms_pymoo]\n",
    "\n",
    "plt.figure(figsize=(8, 6))\n",
    "plt.bar(labels, values, color=['blue', 'orange'], alpha=0.7)\n",
    "plt.ylabel('Maximum Spread (MS)')\n",
    "plt.title('Maximum Spread Comparison')\n",
    "plt.show()"
   ]
  },
  {
   "cell_type": "code",
   "execution_count": null,
   "id": "823d10a8-be87-4a6d-8ae2-c4a2597f52ed",
   "metadata": {},
   "outputs": [],
   "source": []
  }
 ],
 "metadata": {
  "kernelspec": {
   "display_name": "Python 3 (ipykernel)",
   "language": "python",
   "name": "python3"
  },
  "language_info": {
   "codemirror_mode": {
    "name": "ipython",
    "version": 3
   },
   "file_extension": ".py",
   "mimetype": "text/x-python",
   "name": "python",
   "nbconvert_exporter": "python",
   "pygments_lexer": "ipython3",
   "version": "3.12.2"
  }
 },
 "nbformat": 4,
 "nbformat_minor": 5
}
